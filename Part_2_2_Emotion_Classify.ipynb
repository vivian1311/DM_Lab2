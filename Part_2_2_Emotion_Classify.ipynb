{
 "cells": [
  {
   "cell_type": "markdown",
   "id": "81989543",
   "metadata": {},
   "source": [
    "# Part II: Kaggle Competition (30%)\n",
    "Participate in the in-class [Kaggle Competition](https://www.kaggle.com/competitions/dm2022-isa5810-lab2-homework) regarding Emotion Recognition on Twitter. The scoring will be given according to your place in the Private Leaderboard ranking: \n",
    "   - **Bottom 40%**: Get 20% of the 30% available for this section.\n",
    "   - **Top 41% - 100%**: Get (60-x)/6 + 20 points, where x is your ranking in the leaderboard (ie. If you rank 3rd your score will be (60-3)/6 + 20 = 29.5% out of 30%)   \n",
    "\n",
    "Submit your last submission **BEFORE the deadline (Nov. 22th 11:59 pm, Tuesday)**. Make sure to take a screenshot of your position at the end of the competition and store it as '''pic0.png''' under the **img** folder of this repository and rerun the cell **Student Information**.\n"
   ]
  },
  {
   "cell_type": "markdown",
   "id": "16adcc5a",
   "metadata": {},
   "source": [
    "## 1. Data Preparation"
   ]
  },
  {
   "cell_type": "markdown",
   "id": "eeb66a9a",
   "metadata": {},
   "source": [
    "First I import the libraries and load the preprocessed data. "
   ]
  },
  {
   "cell_type": "code",
   "execution_count": 1,
   "id": "5f5ce177",
   "metadata": {},
   "outputs": [
    {
     "name": "stdout",
     "output_type": "stream",
     "text": [
      "gensim: 4.2.0\n",
      "tensorflow: 2.10.0\n",
      "keras: 2.10.0\n"
     ]
    }
   ],
   "source": [
    "# import library\n",
    "import pandas as pd\n",
    "import numpy as np\n",
    "import nltk\n",
    "import matplotlib.pyplot as plt\n",
    "import seaborn as sns\n",
    "import itertools\n",
    "import gensim\n",
    "import tensorflow as tf\n",
    "import keras\n",
    "%matplotlib inline\n",
    "\n",
    "print(\"gensim: \" + gensim.__version__)\n",
    "print(\"tensorflow: \" + tf.__version__)\n",
    "print(\"keras: \" + keras.__version__)"
   ]
  },
  {
   "cell_type": "code",
   "execution_count": 2,
   "id": "dd5c8efd",
   "metadata": {},
   "outputs": [],
   "source": [
    "## ignore warnings\n",
    "import warnings\n",
    "warnings.filterwarnings('ignore')"
   ]
  },
  {
   "cell_type": "code",
   "execution_count": 3,
   "id": "65155a0e",
   "metadata": {},
   "outputs": [],
   "source": [
    "from sklearn.model_selection import train_test_split"
   ]
  },
  {
   "cell_type": "code",
   "execution_count": 4,
   "id": "8c05f079",
   "metadata": {},
   "outputs": [],
   "source": [
    "# load the data\n",
    "df = pd.read_pickle(\"part2_data/cleaned_tweets.pkl\")"
   ]
  },
  {
   "cell_type": "code",
   "execution_count": 5,
   "id": "864ec7e8",
   "metadata": {},
   "outputs": [
    {
     "data": {
      "text/html": [
       "<div>\n",
       "<style scoped>\n",
       "    .dataframe tbody tr th:only-of-type {\n",
       "        vertical-align: middle;\n",
       "    }\n",
       "\n",
       "    .dataframe tbody tr th {\n",
       "        vertical-align: top;\n",
       "    }\n",
       "\n",
       "    .dataframe thead th {\n",
       "        text-align: right;\n",
       "    }\n",
       "</style>\n",
       "<table border=\"1\" class=\"dataframe\">\n",
       "  <thead>\n",
       "    <tr style=\"text-align: right;\">\n",
       "      <th></th>\n",
       "      <th>tweet_id</th>\n",
       "      <th>text</th>\n",
       "      <th>hashtags</th>\n",
       "      <th>emotion</th>\n",
       "      <th>identification</th>\n",
       "      <th>unigrams</th>\n",
       "      <th>remove_stopwords</th>\n",
       "    </tr>\n",
       "  </thead>\n",
       "  <tbody>\n",
       "    <tr>\n",
       "      <th>0</th>\n",
       "      <td>0x376b20</td>\n",
       "      <td>People who post \"add me on #Snapchat\" must be ...</td>\n",
       "      <td>[Snapchat]</td>\n",
       "      <td>anticipation</td>\n",
       "      <td>train</td>\n",
       "      <td>[People, who, post, ``, add, me, on, #, Snapch...</td>\n",
       "      <td>People post `` add Snapchat '' must dehydrated...</td>\n",
       "    </tr>\n",
       "    <tr>\n",
       "      <th>1</th>\n",
       "      <td>0x2d5350</td>\n",
       "      <td>@brianklaas As we see, Trump is dangerous to #...</td>\n",
       "      <td>[freepress, TrumpLegacy, CNN]</td>\n",
       "      <td>sadness</td>\n",
       "      <td>train</td>\n",
       "      <td>[@, brianklaas, As, we, see, ,, Trump, is, dan...</td>\n",
       "      <td>brianklaas see Trump dangerous freepress aroun...</td>\n",
       "    </tr>\n",
       "    <tr>\n",
       "      <th>3</th>\n",
       "      <td>0x1cd5b0</td>\n",
       "      <td>Now ISSA is stalking Tasha 😂😂😂 &lt;LH&gt;</td>\n",
       "      <td>[]</td>\n",
       "      <td>fear</td>\n",
       "      <td>train</td>\n",
       "      <td>[Now, ISSA, is, stalking, Tasha, 😂😂😂, &lt;, LH, &gt;]</td>\n",
       "      <td>ISSA stalking Tasha 😂😂😂 LH</td>\n",
       "    </tr>\n",
       "    <tr>\n",
       "      <th>5</th>\n",
       "      <td>0x1d755c</td>\n",
       "      <td>@RISKshow @TheKevinAllison Thx for the BEST TI...</td>\n",
       "      <td>[authentic, LaughOutLoud]</td>\n",
       "      <td>joy</td>\n",
       "      <td>train</td>\n",
       "      <td>[@, RISKshow, @, TheKevinAllison, Thx, for, th...</td>\n",
       "      <td>RISKshow TheKevinAllison Thx BEST TIME tonight...</td>\n",
       "    </tr>\n",
       "    <tr>\n",
       "      <th>6</th>\n",
       "      <td>0x2c91a8</td>\n",
       "      <td>Still waiting on those supplies Liscus. &lt;LH&gt;</td>\n",
       "      <td>[]</td>\n",
       "      <td>anticipation</td>\n",
       "      <td>train</td>\n",
       "      <td>[Still, waiting, on, those, supplies, Liscus, ...</td>\n",
       "      <td>Still waiting supplies Liscus LH</td>\n",
       "    </tr>\n",
       "    <tr>\n",
       "      <th>...</th>\n",
       "      <td>...</td>\n",
       "      <td>...</td>\n",
       "      <td>...</td>\n",
       "      <td>...</td>\n",
       "      <td>...</td>\n",
       "      <td>...</td>\n",
       "      <td>...</td>\n",
       "    </tr>\n",
       "    <tr>\n",
       "      <th>1867526</th>\n",
       "      <td>0x321566</td>\n",
       "      <td>I'm SO HAPPY!!! #NoWonder the name of this sho...</td>\n",
       "      <td>[NoWonder, Happy]</td>\n",
       "      <td>joy</td>\n",
       "      <td>train</td>\n",
       "      <td>[I, 'm, SO, HAPPY, !, !, !, #, NoWonder, the, ...</td>\n",
       "      <td>'m HAPPY NoWonder name show Happy HappySYFY SY...</td>\n",
       "    </tr>\n",
       "    <tr>\n",
       "      <th>1867527</th>\n",
       "      <td>0x38959e</td>\n",
       "      <td>In every circumtance I'd like to be thankful t...</td>\n",
       "      <td>[]</td>\n",
       "      <td>joy</td>\n",
       "      <td>train</td>\n",
       "      <td>[In, every, circumtance, I, 'd, like, to, be, ...</td>\n",
       "      <td>every circumtance 'd like thankful Almighty Je...</td>\n",
       "    </tr>\n",
       "    <tr>\n",
       "      <th>1867528</th>\n",
       "      <td>0x2cbca6</td>\n",
       "      <td>there's currently two girls walking around the...</td>\n",
       "      <td>[blessyou]</td>\n",
       "      <td>joy</td>\n",
       "      <td>train</td>\n",
       "      <td>[there, 's, currently, two, girls, walking, ar...</td>\n",
       "      <td>'s currently two girls walking around library ...</td>\n",
       "    </tr>\n",
       "    <tr>\n",
       "      <th>1867533</th>\n",
       "      <td>0x24faed</td>\n",
       "      <td>Ah, corporate life, where you can date &lt;LH&gt; us...</td>\n",
       "      <td>[]</td>\n",
       "      <td>joy</td>\n",
       "      <td>train</td>\n",
       "      <td>[Ah, ,, corporate, life, ,, where, you, can, d...</td>\n",
       "      <td>Ah corporate life date LH using relative anach...</td>\n",
       "    </tr>\n",
       "    <tr>\n",
       "      <th>1867534</th>\n",
       "      <td>0x34be8c</td>\n",
       "      <td>Blessed to be living #Sundayvibes &lt;LH&gt;</td>\n",
       "      <td>[Sundayvibes]</td>\n",
       "      <td>joy</td>\n",
       "      <td>train</td>\n",
       "      <td>[Blessed, to, be, living, #, Sundayvibes, &lt;, L...</td>\n",
       "      <td>Blessed living Sundayvibes LH</td>\n",
       "    </tr>\n",
       "  </tbody>\n",
       "</table>\n",
       "<p>1455563 rows × 7 columns</p>\n",
       "</div>"
      ],
      "text/plain": [
       "         tweet_id                                               text  \\\n",
       "0        0x376b20  People who post \"add me on #Snapchat\" must be ...   \n",
       "1        0x2d5350  @brianklaas As we see, Trump is dangerous to #...   \n",
       "3        0x1cd5b0                Now ISSA is stalking Tasha 😂😂😂 <LH>   \n",
       "5        0x1d755c  @RISKshow @TheKevinAllison Thx for the BEST TI...   \n",
       "6        0x2c91a8       Still waiting on those supplies Liscus. <LH>   \n",
       "...           ...                                                ...   \n",
       "1867526  0x321566  I'm SO HAPPY!!! #NoWonder the name of this sho...   \n",
       "1867527  0x38959e  In every circumtance I'd like to be thankful t...   \n",
       "1867528  0x2cbca6  there's currently two girls walking around the...   \n",
       "1867533  0x24faed  Ah, corporate life, where you can date <LH> us...   \n",
       "1867534  0x34be8c             Blessed to be living #Sundayvibes <LH>   \n",
       "\n",
       "                              hashtags       emotion identification  \\\n",
       "0                           [Snapchat]  anticipation          train   \n",
       "1        [freepress, TrumpLegacy, CNN]       sadness          train   \n",
       "3                                   []          fear          train   \n",
       "5            [authentic, LaughOutLoud]           joy          train   \n",
       "6                                   []  anticipation          train   \n",
       "...                                ...           ...            ...   \n",
       "1867526              [NoWonder, Happy]           joy          train   \n",
       "1867527                             []           joy          train   \n",
       "1867528                     [blessyou]           joy          train   \n",
       "1867533                             []           joy          train   \n",
       "1867534                  [Sundayvibes]           joy          train   \n",
       "\n",
       "                                                  unigrams  \\\n",
       "0        [People, who, post, ``, add, me, on, #, Snapch...   \n",
       "1        [@, brianklaas, As, we, see, ,, Trump, is, dan...   \n",
       "3          [Now, ISSA, is, stalking, Tasha, 😂😂😂, <, LH, >]   \n",
       "5        [@, RISKshow, @, TheKevinAllison, Thx, for, th...   \n",
       "6        [Still, waiting, on, those, supplies, Liscus, ...   \n",
       "...                                                    ...   \n",
       "1867526  [I, 'm, SO, HAPPY, !, !, !, #, NoWonder, the, ...   \n",
       "1867527  [In, every, circumtance, I, 'd, like, to, be, ...   \n",
       "1867528  [there, 's, currently, two, girls, walking, ar...   \n",
       "1867533  [Ah, ,, corporate, life, ,, where, you, can, d...   \n",
       "1867534  [Blessed, to, be, living, #, Sundayvibes, <, L...   \n",
       "\n",
       "                                          remove_stopwords  \n",
       "0        People post `` add Snapchat '' must dehydrated...  \n",
       "1        brianklaas see Trump dangerous freepress aroun...  \n",
       "3                               ISSA stalking Tasha 😂😂😂 LH  \n",
       "5        RISKshow TheKevinAllison Thx BEST TIME tonight...  \n",
       "6                         Still waiting supplies Liscus LH  \n",
       "...                                                    ...  \n",
       "1867526  'm HAPPY NoWonder name show Happy HappySYFY SY...  \n",
       "1867527  every circumtance 'd like thankful Almighty Je...  \n",
       "1867528  's currently two girls walking around library ...  \n",
       "1867533  Ah corporate life date LH using relative anach...  \n",
       "1867534                      Blessed living Sundayvibes LH  \n",
       "\n",
       "[1455563 rows x 7 columns]"
      ]
     },
     "execution_count": 5,
     "metadata": {},
     "output_type": "execute_result"
    }
   ],
   "source": [
    "df_train = df.loc[df.identification == 'train']\n",
    "df_test = df.loc[df.identification == 'test']\n",
    "df_train"
   ]
  },
  {
   "cell_type": "markdown",
   "id": "230df12b",
   "metadata": {},
   "source": [
    "From the emotiond distribution, it's obviously that the data is imbalance. Therefore I tried under sampling the data to get balanced dataset."
   ]
  },
  {
   "cell_type": "code",
   "execution_count": 6,
   "id": "fe60c205",
   "metadata": {
    "scrolled": false
   },
   "outputs": [
    {
     "name": "stdout",
     "output_type": "stream",
     "text": [
      "emotion\n",
      "anger            39867\n",
      "anticipation    248935\n",
      "disgust         139101\n",
      "fear             63999\n",
      "joy             516017\n",
      "sadness         193437\n",
      "surprise         48729\n",
      "trust           205478\n",
      "Name: text, dtype: int64\n"
     ]
    },
    {
     "data": {
      "text/plain": [
       "Text(0.5, 0, 'category')"
      ]
     },
     "execution_count": 6,
     "metadata": {},
     "output_type": "execute_result"
    },
    {
     "data": {
      "image/png": "[encoded data removed]",
      "text/plain": [
       "<Figure size 640x480 with 1 Axes>"
      ]
     },
     "metadata": {},
     "output_type": "display_data"
    }
   ],
   "source": [
    "print(df_train.groupby(['emotion']).count()['text'])\n",
    "df_train['emotion'].value_counts().plot(kind='bar')\n",
    "plt.title('Emotion class count')\n",
    "plt.xlabel(\"category\")"
   ]
  },
  {
   "cell_type": "code",
   "execution_count": 7,
   "id": "75de81df",
   "metadata": {
    "scrolled": true
   },
   "outputs": [
    {
     "name": "stdout",
     "output_type": "stream",
     "text": [
      "emotion\n",
      "anger           3000\n",
      "anticipation    3000\n",
      "disgust         3000\n",
      "fear            3000\n",
      "joy             3000\n",
      "sadness         3000\n",
      "surprise        3000\n",
      "trust           3000\n",
      "Name: text, dtype: int64\n"
     ]
    }
   ],
   "source": [
    "# under sampling\n",
    "condition = df_train['emotion'] == 'anger'\n",
    "df_select = df_train[condition].sample(3000)\n",
    "condition = df_train['emotion'] == 'anticipation'\n",
    "df_tmp = df_train[condition].sample(3000)\n",
    "df_select = pd.concat([df_select, df_tmp])\n",
    "condition = df_train['emotion'] == 'disgust'\n",
    "df_tmp = df_train[condition].sample(3000)\n",
    "df_select = pd.concat([df_select, df_tmp])\n",
    "condition = df_train['emotion'] == 'fear'\n",
    "df_tmp = df_train[condition].sample(3000)\n",
    "df_select = pd.concat([df_select, df_tmp])\n",
    "condition = df_train['emotion'] == 'joy'\n",
    "df_tmp = df_train[condition].sample(3000)\n",
    "df_select = pd.concat([df_select, df_tmp])\n",
    "condition = df_train['emotion'] == 'sadness'\n",
    "df_tmp = df_train[condition].sample(3000)\n",
    "df_select = pd.concat([df_select, df_tmp])\n",
    "condition = df_train['emotion'] == 'surprise'\n",
    "df_tmp = df_train[condition].sample(3000)\n",
    "df_select = pd.concat([df_select, df_tmp])\n",
    "condition = df_train['emotion'] == 'trust'\n",
    "df_tmp = df_train[condition].sample(3000)\n",
    "df_select = pd.concat([df_select, df_tmp])\n",
    "\n",
    "df_train = df_select.reset_index(drop=True)\n",
    "print(df_train.groupby(['emotion']).count()['text'])"
   ]
  },
  {
   "cell_type": "markdown",
   "id": "4b2bf617",
   "metadata": {},
   "source": [
    "## 2. Feature Engineerring"
   ]
  },
  {
   "cell_type": "markdown",
   "id": "2a869633",
   "metadata": {},
   "source": [
    "## 2.1 Generate TF-IDF feature"
   ]
  },
  {
   "cell_type": "code",
   "execution_count": 8,
   "id": "f85c0837",
   "metadata": {},
   "outputs": [
    {
     "name": "stdout",
     "output_type": "stream",
     "text": [
      "(24000, 41093)\n"
     ]
    }
   ],
   "source": [
    "from sklearn.feature_extraction.text import TfidfVectorizer\n",
    "tf_transformer = TfidfVectorizer()\n",
    "tfidf_matrix = tf_transformer.fit_transform(df_train.remove_stopwords)\n",
    "print(tfidf_matrix.shape)"
   ]
  },
  {
   "cell_type": "code",
   "execution_count": 9,
   "id": "6b2936d0",
   "metadata": {},
   "outputs": [
    {
     "data": {
      "text/html": [
       "<div>\n",
       "<style scoped>\n",
       "    .dataframe tbody tr th:only-of-type {\n",
       "        vertical-align: middle;\n",
       "    }\n",
       "\n",
       "    .dataframe tbody tr th {\n",
       "        vertical-align: top;\n",
       "    }\n",
       "\n",
       "    .dataframe thead th {\n",
       "        text-align: right;\n",
       "    }\n",
       "</style>\n",
       "<table border=\"1\" class=\"dataframe\">\n",
       "  <thead>\n",
       "    <tr style=\"text-align: right;\">\n",
       "      <th></th>\n",
       "      <th>term</th>\n",
       "      <th>rank</th>\n",
       "    </tr>\n",
       "  </thead>\n",
       "  <tbody>\n",
       "    <tr>\n",
       "      <th>21124</th>\n",
       "      <td>lh</td>\n",
       "      <td>1560.786572</td>\n",
       "    </tr>\n",
       "    <tr>\n",
       "      <th>21196</th>\n",
       "      <td>life</td>\n",
       "      <td>217.180428</td>\n",
       "    </tr>\n",
       "    <tr>\n",
       "      <th>21277</th>\n",
       "      <td>like</td>\n",
       "      <td>196.454873</td>\n",
       "    </tr>\n",
       "    <tr>\n",
       "      <th>36850</th>\n",
       "      <td>today</td>\n",
       "      <td>189.400541</td>\n",
       "    </tr>\n",
       "    <tr>\n",
       "      <th>14635</th>\n",
       "      <td>get</td>\n",
       "      <td>187.862075</td>\n",
       "    </tr>\n",
       "  </tbody>\n",
       "</table>\n",
       "</div>"
      ],
      "text/plain": [
       "        term         rank\n",
       "21124     lh  1560.786572\n",
       "21196   life   217.180428\n",
       "21277   like   196.454873\n",
       "36850  today   189.400541\n",
       "14635    get   187.862075"
      ]
     },
     "execution_count": 9,
     "metadata": {},
     "output_type": "execute_result"
    }
   ],
   "source": [
    "# connecting term to its sums frequency\n",
    "terms = tf_transformer.get_feature_names()\n",
    "sums = tfidf_matrix.sum(axis=0)\n",
    "data = []\n",
    "for col, term in enumerate(terms):\n",
    "    data.append( (term, sums[0,col] ))\n",
    "\n",
    "ranking = pd.DataFrame(data, columns=['term','rank'])\n",
    "df_tfidf_ranking = ranking.sort_values('rank', ascending = False)\n",
    "df_tfidf_ranking.head()"
   ]
  },
  {
   "cell_type": "markdown",
   "id": "be69563c",
   "metadata": {},
   "source": [
    "From the ranking, some keywords such as \"like\", \"love\", etc. are extracted. It is reasonable since the most labeled emotion is \"joy\". "
   ]
  },
  {
   "cell_type": "code",
   "execution_count": 10,
   "id": "16809770",
   "metadata": {
    "scrolled": true
   },
   "outputs": [
    {
     "data": {
      "text/html": [
       "<div>\n",
       "<style scoped>\n",
       "    .dataframe tbody tr th:only-of-type {\n",
       "        vertical-align: middle;\n",
       "    }\n",
       "\n",
       "    .dataframe tbody tr th {\n",
       "        vertical-align: top;\n",
       "    }\n",
       "\n",
       "    .dataframe thead th {\n",
       "        text-align: right;\n",
       "    }\n",
       "</style>\n",
       "<table border=\"1\" class=\"dataframe\">\n",
       "  <thead>\n",
       "    <tr style=\"text-align: right;\">\n",
       "      <th></th>\n",
       "      <th>tweet_id</th>\n",
       "      <th>text</th>\n",
       "      <th>hashtags</th>\n",
       "      <th>emotion</th>\n",
       "      <th>identification</th>\n",
       "      <th>unigrams</th>\n",
       "      <th>remove_stopwords</th>\n",
       "    </tr>\n",
       "  </thead>\n",
       "  <tbody>\n",
       "    <tr>\n",
       "      <th>0</th>\n",
       "      <td>0x286832</td>\n",
       "      <td>Thousands of blithering dunder-headed vivisect...</td>\n",
       "      <td>[]</td>\n",
       "      <td>anger</td>\n",
       "      <td>train</td>\n",
       "      <td>[Thousands, of, blithering, dunder-headed, viv...</td>\n",
       "      <td>Thousands blithering dunder-headed vivisection...</td>\n",
       "    </tr>\n",
       "    <tr>\n",
       "      <th>1</th>\n",
       "      <td>0x1d3dff</td>\n",
       "      <td>@crusher614 @SylviaHandwerg4 Haha of course th...</td>\n",
       "      <td>[]</td>\n",
       "      <td>anger</td>\n",
       "      <td>train</td>\n",
       "      <td>[@, crusher614, @, SylviaHandwerg4, Haha, of, ...</td>\n",
       "      <td>crusher614 SylviaHandwerg4 Haha course bunch l...</td>\n",
       "    </tr>\n",
       "    <tr>\n",
       "      <th>2</th>\n",
       "      <td>0x3775a5</td>\n",
       "      <td>🕘 02:00 18 Sep &lt;LH&gt; 🇺🇸USD = 9,35 🇪🇺EUR = 11,15...</td>\n",
       "      <td>[]</td>\n",
       "      <td>anger</td>\n",
       "      <td>train</td>\n",
       "      <td>[🕘, 02:00, 18, Sep, &lt;, LH, &gt;, 🇺🇸USD, =, 9,35, ...</td>\n",
       "      <td>🕘 02:00 18 Sep LH 🇺🇸USD 9,35 🇪🇺EUR 11,15 🇨🇦CAD...</td>\n",
       "    </tr>\n",
       "    <tr>\n",
       "      <th>3</th>\n",
       "      <td>0x24b10b</td>\n",
       "      <td>&lt;LH&gt; I have every right to be angry at people!...</td>\n",
       "      <td>[]</td>\n",
       "      <td>anger</td>\n",
       "      <td>train</td>\n",
       "      <td>[&lt;, LH, &gt;, I, have, every, right, to, be, angr...</td>\n",
       "      <td>LH every right angry people n't go restricting...</td>\n",
       "    </tr>\n",
       "    <tr>\n",
       "      <th>4</th>\n",
       "      <td>0x273709</td>\n",
       "      <td>Lost my headphones at uni today 😒😪 &lt;LH&gt;</td>\n",
       "      <td>[]</td>\n",
       "      <td>anger</td>\n",
       "      <td>train</td>\n",
       "      <td>[Lost, my, headphones, at, uni, today, 😒😪, &lt;, ...</td>\n",
       "      <td>Lost headphones uni today 😒😪 LH</td>\n",
       "    </tr>\n",
       "    <tr>\n",
       "      <th>...</th>\n",
       "      <td>...</td>\n",
       "      <td>...</td>\n",
       "      <td>...</td>\n",
       "      <td>...</td>\n",
       "      <td>...</td>\n",
       "      <td>...</td>\n",
       "      <td>...</td>\n",
       "    </tr>\n",
       "    <tr>\n",
       "      <th>23995</th>\n",
       "      <td>0x2955b3</td>\n",
       "      <td>Just me an the family that's left that loves m...</td>\n",
       "      <td>[lessonlearned]</td>\n",
       "      <td>trust</td>\n",
       "      <td>train</td>\n",
       "      <td>[Just, me, an, the, family, that, 's, left, th...</td>\n",
       "      <td>family 's left loves .. Ima hold never settle ...</td>\n",
       "    </tr>\n",
       "    <tr>\n",
       "      <th>23996</th>\n",
       "      <td>0x371b66</td>\n",
       "      <td>Its a BitterSweet moment when u no longer care...</td>\n",
       "      <td>[forget]</td>\n",
       "      <td>trust</td>\n",
       "      <td>train</td>\n",
       "      <td>[Its, a, BitterSweet, moment, when, u, no, lon...</td>\n",
       "      <td>BitterSweet moment u longer care enuf hate em ...</td>\n",
       "    </tr>\n",
       "    <tr>\n",
       "      <th>23997</th>\n",
       "      <td>0x2c1593</td>\n",
       "      <td>Wonderful energy @lovehotyogasw19 this morning...</td>\n",
       "      <td>[bikram, hotyoga]</td>\n",
       "      <td>trust</td>\n",
       "      <td>train</td>\n",
       "      <td>[Wonderful, energy, @, lovehotyogasw19, this, ...</td>\n",
       "      <td>Wonderful energy lovehotyogasw19 morning TheHo...</td>\n",
       "    </tr>\n",
       "    <tr>\n",
       "      <th>23998</th>\n",
       "      <td>0x282afe</td>\n",
       "      <td>#MyTipsForMentalHealth true friends show thems...</td>\n",
       "      <td>[MyTipsForMentalHealth, Spoonie, invisibleilln...</td>\n",
       "      <td>trust</td>\n",
       "      <td>train</td>\n",
       "      <td>[#, MyTipsForMentalHealth, true, friends, show...</td>\n",
       "      <td>MyTipsForMentalHealth true friends show least ...</td>\n",
       "    </tr>\n",
       "    <tr>\n",
       "      <th>23999</th>\n",
       "      <td>0x328d99</td>\n",
       "      <td>@DonnieWahlberg Thank You!!! For all the many ...</td>\n",
       "      <td>[]</td>\n",
       "      <td>trust</td>\n",
       "      <td>train</td>\n",
       "      <td>[@, DonnieWahlberg, Thank, You, !, !, !, For, ...</td>\n",
       "      <td>DonnieWahlberg Thank many dream come true mome...</td>\n",
       "    </tr>\n",
       "  </tbody>\n",
       "</table>\n",
       "<p>24000 rows × 7 columns</p>\n",
       "</div>"
      ],
      "text/plain": [
       "       tweet_id                                               text  \\\n",
       "0      0x286832  Thousands of blithering dunder-headed vivisect...   \n",
       "1      0x1d3dff  @crusher614 @SylviaHandwerg4 Haha of course th...   \n",
       "2      0x3775a5  🕘 02:00 18 Sep <LH> 🇺🇸USD = 9,35 🇪🇺EUR = 11,15...   \n",
       "3      0x24b10b  <LH> I have every right to be angry at people!...   \n",
       "4      0x273709            Lost my headphones at uni today 😒😪 <LH>   \n",
       "...         ...                                                ...   \n",
       "23995  0x2955b3  Just me an the family that's left that loves m...   \n",
       "23996  0x371b66  Its a BitterSweet moment when u no longer care...   \n",
       "23997  0x2c1593  Wonderful energy @lovehotyogasw19 this morning...   \n",
       "23998  0x282afe  #MyTipsForMentalHealth true friends show thems...   \n",
       "23999  0x328d99  @DonnieWahlberg Thank You!!! For all the many ...   \n",
       "\n",
       "                                                hashtags emotion  \\\n",
       "0                                                     []   anger   \n",
       "1                                                     []   anger   \n",
       "2                                                     []   anger   \n",
       "3                                                     []   anger   \n",
       "4                                                     []   anger   \n",
       "...                                                  ...     ...   \n",
       "23995                                    [lessonlearned]   trust   \n",
       "23996                                           [forget]   trust   \n",
       "23997                                  [bikram, hotyoga]   trust   \n",
       "23998  [MyTipsForMentalHealth, Spoonie, invisibleilln...   trust   \n",
       "23999                                                 []   trust   \n",
       "\n",
       "      identification                                           unigrams  \\\n",
       "0              train  [Thousands, of, blithering, dunder-headed, viv...   \n",
       "1              train  [@, crusher614, @, SylviaHandwerg4, Haha, of, ...   \n",
       "2              train  [🕘, 02:00, 18, Sep, <, LH, >, 🇺🇸USD, =, 9,35, ...   \n",
       "3              train  [<, LH, >, I, have, every, right, to, be, angr...   \n",
       "4              train  [Lost, my, headphones, at, uni, today, 😒😪, <, ...   \n",
       "...              ...                                                ...   \n",
       "23995          train  [Just, me, an, the, family, that, 's, left, th...   \n",
       "23996          train  [Its, a, BitterSweet, moment, when, u, no, lon...   \n",
       "23997          train  [Wonderful, energy, @, lovehotyogasw19, this, ...   \n",
       "23998          train  [#, MyTipsForMentalHealth, true, friends, show...   \n",
       "23999          train  [@, DonnieWahlberg, Thank, You, !, !, !, For, ...   \n",
       "\n",
       "                                        remove_stopwords  \n",
       "0      Thousands blithering dunder-headed vivisection...  \n",
       "1      crusher614 SylviaHandwerg4 Haha course bunch l...  \n",
       "2      🕘 02:00 18 Sep LH 🇺🇸USD 9,35 🇪🇺EUR 11,15 🇨🇦CAD...  \n",
       "3      LH every right angry people n't go restricting...  \n",
       "4                        Lost headphones uni today 😒😪 LH  \n",
       "...                                                  ...  \n",
       "23995  family 's left loves .. Ima hold never settle ...  \n",
       "23996  BitterSweet moment u longer care enuf hate em ...  \n",
       "23997  Wonderful energy lovehotyogasw19 morning TheHo...  \n",
       "23998  MyTipsForMentalHealth true friends show least ...  \n",
       "23999  DonnieWahlberg Thank many dream come true mome...  \n",
       "\n",
       "[24000 rows x 7 columns]"
      ]
     },
     "execution_count": 10,
     "metadata": {},
     "output_type": "execute_result"
    }
   ],
   "source": [
    "df_train"
   ]
  },
  {
   "cell_type": "code",
   "execution_count": 11,
   "id": "5cf23000",
   "metadata": {},
   "outputs": [],
   "source": [
    "# transform the text removing stopwords in to vectors\n",
    "X = tf_transformer.transform(df_train.remove_stopwords)\n",
    "y = df_train.emotion"
   ]
  },
  {
   "cell_type": "code",
   "execution_count": 12,
   "id": "948bfd84",
   "metadata": {},
   "outputs": [],
   "source": [
    "X_train, X_test, y_train, y_test = train_test_split(X, y, test_size = 0.2, random_state = 0)"
   ]
  },
  {
   "cell_type": "code",
   "execution_count": 13,
   "id": "15f0da0e",
   "metadata": {
    "scrolled": true
   },
   "outputs": [
    {
     "name": "stdout",
     "output_type": "stream",
     "text": [
      "(19200, 41093)\n",
      "(4800, 41093)\n",
      "(19200,)\n",
      "(4800,)\n"
     ]
    }
   ],
   "source": [
    "print(X_train.shape)\n",
    "print(X_test.shape)\n",
    "print(y_train.shape)\n",
    "print(y_test.shape)"
   ]
  },
  {
   "cell_type": "markdown",
   "id": "09034058",
   "metadata": {},
   "source": [
    "## 2.2 Build Model"
   ]
  },
  {
   "cell_type": "markdown",
   "id": "bb07f743",
   "metadata": {},
   "source": [
    "Here I build two kinds of model: deicsion tree and random forest. We can observe that **random forest<font color=#800000>(acc = 0.39)</font> has better performance than decision tree<font color=#800000>(acc = o.32)</font>**. However, these are not good enough to do the classification. Therefore, I work on NN model."
   ]
  },
  {
   "cell_type": "markdown",
   "id": "8c682683",
   "metadata": {},
   "source": [
    "### Decision Tree"
   ]
  },
  {
   "cell_type": "code",
   "execution_count": 14,
   "id": "1ad19000",
   "metadata": {},
   "outputs": [
    {
     "data": {
      "text/plain": [
       "array(['trust', 'disgust', 'fear', 'anticipation', 'sadness', 'fear',\n",
       "       'sadness', 'joy', 'sadness', 'fear'], dtype=object)"
      ]
     },
     "execution_count": 14,
     "metadata": {},
     "output_type": "execute_result"
    }
   ],
   "source": [
    "from sklearn.tree import DecisionTreeClassifier\n",
    "\n",
    "## build DecisionTree model\n",
    "DT_model = DecisionTreeClassifier(random_state=0)\n",
    "\n",
    "## training!\n",
    "DT_model = DT_model.fit(X_train, y_train)\n",
    "\n",
    "## predict!\n",
    "y_train_pred = DT_model.predict(X_train)\n",
    "y_test_pred = DT_model.predict(X_test)\n",
    "\n",
    "## so we get the pred result\n",
    "y_test_pred[:10]"
   ]
  },
  {
   "cell_type": "code",
   "execution_count": 15,
   "id": "c9babe26",
   "metadata": {},
   "outputs": [
    {
     "name": "stdout",
     "output_type": "stream",
     "text": [
      "training accuracy: 1.0\n",
      "testing accuracy: 0.32\n",
      "classification report:\n",
      "              precision    recall  f1-score   support\n",
      "\n",
      "       anger       0.36      0.31      0.34       613\n",
      "anticipation       0.38      0.36      0.37       591\n",
      "     disgust       0.26      0.28      0.27       594\n",
      "        fear       0.37      0.39      0.38       596\n",
      "         joy       0.30      0.33      0.31       592\n",
      "     sadness       0.31      0.32      0.31       590\n",
      "    surprise       0.33      0.31      0.32       613\n",
      "       trust       0.29      0.28      0.29       611\n",
      "\n",
      "    accuracy                           0.32      4800\n",
      "   macro avg       0.32      0.32      0.32      4800\n",
      "weighted avg       0.32      0.32      0.32      4800\n",
      "\n",
      "confusion matrix:\n",
      "[[193  52  78  55  63  63  48  61]\n",
      " [ 33 214  57  49  67  50  51  70]\n",
      " [ 57  46 167  56  54  94  65  55]\n",
      " [ 45  53  66 234  57  45  51  45]\n",
      " [ 35  53  57  64 195  37  61  90]\n",
      " [ 63  43  94  53  56 186  50  45]\n",
      " [ 56  40  67  69  69  69 189  54]\n",
      " [ 55  58  63  57  95  51  59 173]]\n"
     ]
    }
   ],
   "source": [
    "from sklearn.metrics import accuracy_score\n",
    "from sklearn.metrics import classification_report\n",
    "from sklearn.metrics import confusion_matrix\n",
    "\n",
    "# accuracy\n",
    "acc_train = accuracy_score(y_true=y_train, y_pred=y_train_pred)\n",
    "acc_test = accuracy_score(y_true=y_test, y_pred=y_test_pred)\n",
    "\n",
    "print('training accuracy: {}'.format(round(acc_train, 2)))\n",
    "print('testing accuracy: {}'.format(round(acc_test, 2)))\n",
    "\n",
    "# precision, recall, f1-score\n",
    "print('classification report:')\n",
    "print(classification_report(y_true=y_test, y_pred=y_test_pred))\n",
    "\n",
    "# confusion matrix\n",
    "cm = confusion_matrix(y_true=y_test, y_pred=y_test_pred)\n",
    "print('confusion matrix:')\n",
    "print(cm)"
   ]
  },
  {
   "cell_type": "markdown",
   "id": "55203169",
   "metadata": {},
   "source": [
    "### Random Forest"
   ]
  },
  {
   "cell_type": "code",
   "execution_count": 16,
   "id": "c453f616",
   "metadata": {},
   "outputs": [
    {
     "data": {
      "text/plain": [
       "array(['anticipation', 'disgust', 'anger', 'disgust', 'disgust', 'joy',\n",
       "       'anger', 'trust', 'sadness', 'disgust'], dtype=object)"
      ]
     },
     "execution_count": 16,
     "metadata": {},
     "output_type": "execute_result"
    }
   ],
   "source": [
    "from sklearn.ensemble import RandomForestClassifier\n",
    "RF_model = RandomForestClassifier()\n",
    "\n",
    "## training!\n",
    "RF_model = RF_model.fit(X_train, y_train)\n",
    "\n",
    "## predict!\n",
    "y_train_pred = RF_model.predict(X_train)\n",
    "y_test_pred = RF_model.predict(X_test)\n",
    "\n",
    "## so we get the pred result\n",
    "y_test_pred[:10]"
   ]
  },
  {
   "cell_type": "code",
   "execution_count": 17,
   "id": "788769af",
   "metadata": {},
   "outputs": [
    {
     "name": "stdout",
     "output_type": "stream",
     "text": [
      "training accuracy: 1.0\n",
      "testing accuracy: 0.4\n",
      "classification report:\n",
      "              precision    recall  f1-score   support\n",
      "\n",
      "       anger       0.44      0.38      0.41       613\n",
      "anticipation       0.50      0.44      0.47       591\n",
      "     disgust       0.28      0.47      0.35       594\n",
      "        fear       0.47      0.50      0.49       596\n",
      "         joy       0.38      0.39      0.38       592\n",
      "     sadness       0.37      0.34      0.36       590\n",
      "    surprise       0.43      0.33      0.37       613\n",
      "       trust       0.44      0.35      0.39       611\n",
      "\n",
      "    accuracy                           0.40      4800\n",
      "   macro avg       0.41      0.40      0.40      4800\n",
      "weighted avg       0.41      0.40      0.40      4800\n",
      "\n",
      "confusion matrix:\n",
      "[[230  41 129  47  58  46  40  22]\n",
      " [ 21 261  83  46  59  34  36  51]\n",
      " [ 62  27 277  37  41  87  43  20]\n",
      " [ 39  25  76 299  50  37  37  33]\n",
      " [ 30  59  57  61 233  37  36  79]\n",
      " [ 59  22 144  53  41 203  45  23]\n",
      " [ 51  33 126  49  42  63 204  45]\n",
      " [ 29  55  98  44  95  44  35 211]]\n"
     ]
    }
   ],
   "source": [
    "# accuracy\n",
    "acc_train = accuracy_score(y_true=y_train, y_pred=y_train_pred)\n",
    "acc_test = accuracy_score(y_true=y_test, y_pred=y_test_pred)\n",
    "\n",
    "print('training accuracy: {}'.format(round(acc_train, 2)))\n",
    "print('testing accuracy: {}'.format(round(acc_test, 2)))\n",
    "\n",
    "# precision, recall, f1-score\n",
    "print('classification report:')\n",
    "print(classification_report(y_true=y_test, y_pred=y_test_pred))\n",
    "\n",
    "# confusion matrix\n",
    "cm = confusion_matrix(y_true=y_test, y_pred=y_test_pred)\n",
    "print('confusion matrix:')\n",
    "print(cm)"
   ]
  },
  {
   "cell_type": "markdown",
   "id": "4a9a39ea",
   "metadata": {},
   "source": [
    "## 3. Deep Learning Model"
   ]
  },
  {
   "cell_type": "markdown",
   "id": "399b98d4",
   "metadata": {},
   "source": [
    "### 3.1 Prepare data"
   ]
  },
  {
   "cell_type": "markdown",
   "id": "e4fcfd6b",
   "metadata": {},
   "source": [
    "First, I preprocess the text using bag of word as the feature. For the emotion labels, I encode them into one hot. "
   ]
  },
  {
   "cell_type": "code",
   "execution_count": 18,
   "id": "d5b07cf0",
   "metadata": {
    "scrolled": true
   },
   "outputs": [],
   "source": [
    "# use Bag of Word as feature\n",
    "from sklearn.feature_extraction.text import CountVectorizer\n",
    "# build analyzers (bag-of-words)\n",
    "BOW = CountVectorizer(tokenizer = nltk.word_tokenize) \n",
    "\n",
    "# 1. Learn a vocabulary dictionary of all tokens in the raw documents.\n",
    "BOW.fit(df_train['text'])\n",
    "\n",
    "# get data\n",
    "X = BOW.transform(df_train.text)\n",
    "y = df_train.emotion"
   ]
  },
  {
   "cell_type": "code",
   "execution_count": 19,
   "id": "b76c4e52",
   "metadata": {},
   "outputs": [],
   "source": [
    "# split training set and testint set\n",
    "X_train, X_test, y_train, y_test = train_test_split(X, y, test_size = 0.2, shuffle = True, random_state = 0)"
   ]
  },
  {
   "cell_type": "code",
   "execution_count": 20,
   "id": "2ebb2fb9",
   "metadata": {
    "scrolled": true
   },
   "outputs": [
    {
     "name": "stdout",
     "output_type": "stream",
     "text": [
      "(19200, 46390)\n",
      "(4800, 46390)\n",
      "(19200,)\n",
      "(4800,)\n"
     ]
    }
   ],
   "source": [
    "print(X_train.shape)\n",
    "print(X_test.shape)\n",
    "print(y_train.shape)\n",
    "print(y_test.shape)"
   ]
  },
  {
   "cell_type": "code",
   "execution_count": 21,
   "id": "d1837f9f",
   "metadata": {
    "scrolled": true
   },
   "outputs": [
    {
     "name": "stdout",
     "output_type": "stream",
     "text": [
      "\u001b[36mlabels: ['anger' 'anticipation' 'disgust' 'fear' 'joy' 'sadness' 'surprise'\n",
      " 'trust']\n",
      "\u001b[36mBefore convert:\u001b[0m\n",
      "y_train[0:4]:\n",
      " 15613    sadness\n",
      "17719    sadness\n",
      "16235    sadness\n",
      "467        anger\n",
      "Name: emotion, dtype: object\n",
      "y_train.shape:  (19200,)\n",
      "y_test.shape:  (4800,)\n",
      "\u001b[36mAfter convert:\u001b[0m\n",
      "y_train[0:4]:\n",
      " [[0. 0. 0. 0. 0. 1. 0. 0.]\n",
      " [0. 0. 0. 0. 0. 1. 0. 0.]\n",
      " [0. 0. 0. 0. 0. 1. 0. 0.]\n",
      " [1. 0. 0. 0. 0. 0. 0. 0.]]\n",
      "y_train.shape:  (19200, 8)\n",
      "y_test.shape:  (4800, 8)\n"
     ]
    }
   ],
   "source": [
    "# deal with label into one hot\n",
    "from sklearn.preprocessing import LabelEncoder\n",
    "\n",
    "label_encoder = LabelEncoder()\n",
    "label_encoder.fit(y_train)\n",
    "print('\\033[36mlabels:', label_encoder.classes_)\n",
    "print('\\033[36mBefore convert:\\033[0m')\n",
    "print('y_train[0:4]:\\n', y_train[0:4])\n",
    "print('y_train.shape: ', y_train.shape)\n",
    "print('y_test.shape: ', y_test.shape)\n",
    "\n",
    "def label_encode(le, labels):\n",
    "    enc = le.transform(labels)\n",
    "    return keras.utils.to_categorical(enc)\n",
    "\n",
    "def label_decode(le, one_hot_label):\n",
    "    dec = np.argmax(one_hot_label, axis=1)\n",
    "    return le.inverse_transform(dec)\n",
    "\n",
    "y_train = label_encode(label_encoder, y_train)\n",
    "y_test = label_encode(label_encoder, y_test)\n",
    "\n",
    "print('\\033[36mAfter convert:\\033[0m')\n",
    "print('y_train[0:4]:\\n', y_train[0:4])\n",
    "print('y_train.shape: ', y_train.shape)\n",
    "print('y_test.shape: ', y_test.shape)\n"
   ]
  },
  {
   "cell_type": "markdown",
   "id": "2e210f89",
   "metadata": {},
   "source": [
    "### 3.2 Build model"
   ]
  },
  {
   "cell_type": "markdown",
   "id": "4506835f",
   "metadata": {},
   "source": [
    "The NN model is consisted of the input/output layer and two hidden layer. To train the model, I use Adam as the optimizer and use cross entropy to calculate the loss in order to check when the model is overfitting. "
   ]
  },
  {
   "cell_type": "code",
   "execution_count": 22,
   "id": "15cd2963",
   "metadata": {},
   "outputs": [
    {
     "name": "stdout",
     "output_type": "stream",
     "text": [
      "input_shape:  46390\n",
      "output_shape:  8\n"
     ]
    }
   ],
   "source": [
    "# I/O check\n",
    "input_shape = X_train.shape[1]\n",
    "print('input_shape: ', input_shape)\n",
    "\n",
    "output_shape = len(label_encoder.classes_)\n",
    "print('output_shape: ', output_shape)"
   ]
  },
  {
   "cell_type": "code",
   "execution_count": 23,
   "id": "75b20c81",
   "metadata": {
    "scrolled": true
   },
   "outputs": [
    {
     "name": "stdout",
     "output_type": "stream",
     "text": [
      "Metal device set to: Apple M1\n",
      "Model: \"model\"\n",
      "_________________________________________________________________\n",
      " Layer (type)                Output Shape              Param #   \n",
      "=================================================================\n",
      " input_1 (InputLayer)        [(None, 46390)]           0         \n",
      "                                                                 \n",
      " dense (Dense)               (None, 64)                2969024   \n",
      "                                                                 \n",
      " re_lu (ReLU)                (None, 64)                0         \n",
      "                                                                 \n",
      " dense_1 (Dense)             (None, 64)                4160      \n",
      "                                                                 \n",
      " re_lu_1 (ReLU)              (None, 64)                0         \n",
      "                                                                 \n",
      " dense_2 (Dense)             (None, 8)                 520       \n",
      "                                                                 \n",
      " softmax (Softmax)           (None, 8)                 0         \n",
      "                                                                 \n",
      "=================================================================\n",
      "Total params: 2,973,704\n",
      "Trainable params: 2,973,704\n",
      "Non-trainable params: 0\n",
      "_________________________________________________________________\n"
     ]
    },
    {
     "name": "stderr",
     "output_type": "stream",
     "text": [
      "2022-11-22 22:25:04.532074: I tensorflow/core/common_runtime/pluggable_device/pluggable_device_factory.cc:306] Could not identify NUMA node of platform GPU ID 0, defaulting to 0. Your kernel may not have been built with NUMA support.\n",
      "2022-11-22 22:25:04.533609: I tensorflow/core/common_runtime/pluggable_device/pluggable_device_factory.cc:272] Created TensorFlow device (/job:localhost/replica:0/task:0/device:GPU:0 with 0 MB memory) -> physical PluggableDevice (device: 0, name: METAL, pci bus id: <undefined>)\n"
     ]
    }
   ],
   "source": [
    "from keras.models import Model\n",
    "from keras.layers import Input, Dense\n",
    "from keras.layers import ReLU, Softmax\n",
    "\n",
    "# input layer\n",
    "model_input = Input(shape=(input_shape, ))\n",
    "X = model_input\n",
    "\n",
    "# 1st hidden layer\n",
    "X_W1 = Dense(units=64)(X)  # 64\n",
    "H1 = ReLU()(X_W1)\n",
    "\n",
    "# 2nd hidden layer\n",
    "H1_W2 = Dense(units=64)(H1)  # 64\n",
    "H2 = ReLU()(H1_W2)\n",
    "\n",
    "# output layer\n",
    "H2_W3 = Dense(units=output_shape)(H2)  # 4\n",
    "H3 = Softmax()(H2_W3)\n",
    "\n",
    "model_output = H3\n",
    "\n",
    "# create model\n",
    "model = Model(inputs=[model_input], outputs=[model_output])\n",
    "\n",
    "# loss function & optimizer\n",
    "model.compile(optimizer='adam',\n",
    "              loss='categorical_crossentropy',\n",
    "              metrics=['accuracy'])\n",
    "\n",
    "# show model construction\n",
    "model.summary()"
   ]
  },
  {
   "cell_type": "markdown",
   "id": "12067d11",
   "metadata": {},
   "source": [
    "### 3.3 Training"
   ]
  },
  {
   "cell_type": "code",
   "execution_count": 24,
   "id": "cefbd570",
   "metadata": {},
   "outputs": [
    {
     "name": "stdout",
     "output_type": "stream",
     "text": [
      "Epoch 1/15\n"
     ]
    },
    {
     "name": "stderr",
     "output_type": "stream",
     "text": [
      "2022-11-22 22:25:05.012321: W tensorflow/core/platform/profile_utils/cpu_utils.cc:128] Failed to get CPU frequency: 0 Hz\n",
      "2022-11-22 22:25:05.014685: I tensorflow/core/grappler/optimizers/custom_graph_optimizer_registry.cc:114] Plugin optimizer for device_type GPU is enabled.\n"
     ]
    },
    {
     "name": "stdout",
     "output_type": "stream",
     "text": [
      "599/600 [============================>.] - ETA: 0s - loss: 1.7779 - accuracy: 0.3316"
     ]
    },
    {
     "name": "stderr",
     "output_type": "stream",
     "text": [
      "2022-11-22 22:25:23.869004: I tensorflow/core/grappler/optimizers/custom_graph_optimizer_registry.cc:114] Plugin optimizer for device_type GPU is enabled.\n"
     ]
    },
    {
     "name": "stdout",
     "output_type": "stream",
     "text": [
      "600/600 [==============================] - 22s 35ms/step - loss: 1.7777 - accuracy: 0.3316 - val_loss: 1.6364 - val_accuracy: 0.4033\n",
      "Epoch 2/15\n",
      "600/600 [==============================] - 22s 37ms/step - loss: 0.9437 - accuracy: 0.6968 - val_loss: 1.8242 - val_accuracy: 0.3958\n",
      "Epoch 3/15\n",
      "600/600 [==============================] - 24s 41ms/step - loss: 0.3020 - accuracy: 0.9138 - val_loss: 2.2575 - val_accuracy: 0.3910\n",
      "Epoch 4/15\n",
      "600/600 [==============================] - 24s 40ms/step - loss: 0.1060 - accuracy: 0.9716 - val_loss: 2.7121 - val_accuracy: 0.3823\n",
      "Epoch 5/15\n",
      "600/600 [==============================] - 27s 45ms/step - loss: 0.0488 - accuracy: 0.9880 - val_loss: 3.0280 - val_accuracy: 0.3800\n",
      "Epoch 6/15\n",
      "600/600 [==============================] - 29s 49ms/step - loss: 0.0253 - accuracy: 0.9948 - val_loss: 3.3547 - val_accuracy: 0.3798\n",
      "Epoch 7/15\n",
      "600/600 [==============================] - 30s 51ms/step - loss: 0.0155 - accuracy: 0.9969 - val_loss: 3.6954 - val_accuracy: 0.3758\n",
      "Epoch 8/15\n",
      "600/600 [==============================] - 31s 52ms/step - loss: 0.0115 - accuracy: 0.9981 - val_loss: 3.9672 - val_accuracy: 0.3808\n",
      "Epoch 9/15\n",
      "600/600 [==============================] - 31s 52ms/step - loss: 0.0133 - accuracy: 0.9971 - val_loss: 4.1801 - val_accuracy: 0.3742\n",
      "Epoch 10/15\n",
      "600/600 [==============================] - 32s 53ms/step - loss: 0.0165 - accuracy: 0.9955 - val_loss: 4.5333 - val_accuracy: 0.3633\n",
      "Epoch 11/15\n",
      "600/600 [==============================] - 32s 54ms/step - loss: 0.0134 - accuracy: 0.9963 - val_loss: 4.8110 - val_accuracy: 0.3581\n",
      "Epoch 12/15\n",
      "600/600 [==============================] - 32s 53ms/step - loss: 0.0066 - accuracy: 0.9985 - val_loss: 4.9971 - val_accuracy: 0.3600\n",
      "Epoch 13/15\n",
      "600/600 [==============================] - 37s 62ms/step - loss: 0.0037 - accuracy: 0.9990 - val_loss: 5.2979 - val_accuracy: 0.3581\n",
      "Epoch 14/15\n",
      "600/600 [==============================] - 41s 68ms/step - loss: 0.0032 - accuracy: 0.9994 - val_loss: 5.2819 - val_accuracy: 0.3594\n",
      "Epoch 15/15\n",
      "600/600 [==============================] - 41s 67ms/step - loss: 0.0017 - accuracy: 0.9996 - val_loss: 5.5624 - val_accuracy: 0.3623\n",
      "training finish\n"
     ]
    }
   ],
   "source": [
    "from keras.callbacks import CSVLogger\n",
    "\n",
    "csv_logger = CSVLogger('logs/training_log.csv')\n",
    "\n",
    "# training setting\n",
    "epochs = 15\n",
    "batch_size = 32\n",
    "\n",
    "# training!\n",
    "history = model.fit(X_train, y_train, \n",
    "                    epochs=epochs, \n",
    "                    batch_size=batch_size, \n",
    "                    callbacks=[csv_logger],\n",
    "                    validation_data = (X_test, y_test))\n",
    "print('training finish')"
   ]
  },
  {
   "cell_type": "markdown",
   "id": "255d7b27",
   "metadata": {},
   "source": [
    "### 3.4 Predict and See the Result"
   ]
  },
  {
   "cell_type": "markdown",
   "id": "6cfed9a6",
   "metadata": {},
   "source": [
    "From the result, we can observe that the performance of NN model is worse than random forest model. From the loss curve, we can inference that the model isn't well trained. Since NN model is a more complex model than random forest, the noises of terms may have more effect on the training process, resulting worse performance."
   ]
  },
  {
   "cell_type": "code",
   "execution_count": 25,
   "id": "84223f66",
   "metadata": {},
   "outputs": [
    {
     "name": "stdout",
     "output_type": "stream",
     "text": [
      "\r",
      " 1/38 [..............................] - ETA: 15s"
     ]
    },
    {
     "name": "stderr",
     "output_type": "stream",
     "text": [
      "2022-11-22 22:32:41.623177: I tensorflow/core/grappler/optimizers/custom_graph_optimizer_registry.cc:114] Plugin optimizer for device_type GPU is enabled.\n"
     ]
    },
    {
     "name": "stdout",
     "output_type": "stream",
     "text": [
      "38/38 [==============================] - 2s 49ms/step\n",
      "[[4.5581772e-05 9.6133786e-01 3.6115873e-06 1.0431012e-03 4.0877357e-04\n",
      "  2.9125843e-06 2.5818938e-05 3.7132360e-02]\n",
      " [2.4269917e-10 1.6231596e-09 9.9999964e-01 1.2751660e-08 2.9133692e-11\n",
      "  3.0723908e-07 4.0238579e-10 4.0340158e-11]\n",
      " [9.8118261e-03 1.0704787e-05 4.3485601e-05 1.3742858e-05 1.9519127e-06\n",
      "  9.9011821e-01 3.6598330e-08 1.0865108e-08]\n",
      " [2.1346063e-05 1.6124415e-05 1.0012120e-03 8.1949830e-01 1.5135691e-01\n",
      "  5.8650755e-09 7.2538038e-05 2.8033623e-02]\n",
      " [4.0355904e-12 1.2765580e-09 1.4380494e-01 1.4277231e-11 3.2674402e-10\n",
      "  8.5616159e-01 3.3057433e-05 4.5872275e-07]]\n"
     ]
    },
    {
     "data": {
      "text/plain": [
       "array(['anticipation', 'disgust', 'sadness', 'fear', 'sadness'],\n",
       "      dtype=object)"
      ]
     },
     "execution_count": 25,
     "metadata": {},
     "output_type": "execute_result"
    }
   ],
   "source": [
    "# predict\n",
    "pred_result = model.predict(X_test, batch_size=128)\n",
    "print(pred_result[:5])\n",
    "pred_result = label_decode(label_encoder, pred_result)\n",
    "pred_result[:5]"
   ]
  },
  {
   "cell_type": "code",
   "execution_count": 26,
   "id": "7dea1567",
   "metadata": {},
   "outputs": [
    {
     "name": "stdout",
     "output_type": "stream",
     "text": [
      "testing accuracy: 0.36\n"
     ]
    }
   ],
   "source": [
    "# calculate the accuracy\n",
    "from sklearn.metrics import accuracy_score\n",
    "print('testing accuracy: {}'.format(round(accuracy_score(label_decode(label_encoder, y_test), pred_result), 2)))\n",
    "training_log = pd.read_csv(\"logs/training_log.csv\")"
   ]
  },
  {
   "cell_type": "code",
   "execution_count": 27,
   "id": "dc8c45e7",
   "metadata": {},
   "outputs": [
    {
     "data": {
      "image/png": "[encoded data removed]",
      "text/plain": [
       "<Figure size 2000x500 with 2 Axes>"
      ]
     },
     "metadata": {},
     "output_type": "display_data"
    }
   ],
   "source": [
    "import matplotlib.pyplot as plt\n",
    "\n",
    "plt.figure(figsize = (20, 5))\n",
    "\n",
    "# plot the accuracy curve\n",
    "plt.subplot(121)\n",
    "x = np.arange(len(training_log.accuracy)) + 1\n",
    "train, = plt.plot(x, training_log.accuracy, 'b')\n",
    "val, = plt.plot(x, training_log.val_accuracy, 'r')\n",
    "plt.title('accuracy curve')\n",
    "plt.xlabel('epoch')\n",
    "plt.ylabel('accuracy')\n",
    "plt.legend(handles = [train, val], labels = ['train', 'val'], loc = 'best')\n",
    "\n",
    "# plot the loss curve\n",
    "plt.subplot(122)\n",
    "x = np.arange(len(training_log.loss)) + 1\n",
    "train, = plt.plot(x, training_log.loss, 'b')\n",
    "val, = plt.plot(x, training_log.val_loss, 'r')\n",
    "plt.title('loss curve')\n",
    "plt.xlabel('epoch')\n",
    "plt.ylabel('loss')\n",
    "plt.legend(handles = [train, val], labels = ['train', 'val'], loc = 'best')\n",
    "plt.show()"
   ]
  },
  {
   "cell_type": "markdown",
   "id": "3449d712",
   "metadata": {},
   "source": [
    "## 4. BiLSTM Model"
   ]
  },
  {
   "cell_type": "markdown",
   "id": "6b7bd191",
   "metadata": {},
   "source": [
    "### 4.1 Generate Sequence "
   ]
  },
  {
   "cell_type": "markdown",
   "id": "f6a6dee1",
   "metadata": {},
   "source": [
    "Here I generate the tokens of terms using `Tokenizer`. BiLSTM consider the context of the text, therefore the input order matters. The input layer (embedding layer) requires texts with same length. Here I use padding to add 0 at the end of the text which length is smaller than `MAX_SEQ_LENGTH`. For the texts which length is larger than `MAX_SEQ_LENGTH`, I truncate them."
   ]
  },
  {
   "cell_type": "code",
   "execution_count": 28,
   "id": "33fc6b4d",
   "metadata": {},
   "outputs": [],
   "source": [
    "# import library\n",
    "import string\n",
    "from keras.preprocessing.text import Tokenizer\n",
    "from tensorflow.keras.preprocessing.sequence import pad_sequences\n",
    "from sklearn.preprocessing import LabelEncoder"
   ]
  },
  {
   "cell_type": "code",
   "execution_count": 29,
   "id": "cac4a4a2",
   "metadata": {},
   "outputs": [
    {
     "name": "stdout",
     "output_type": "stream",
     "text": [
      "# of unique tokens: 44369\n"
     ]
    }
   ],
   "source": [
    "# set the tokenizer\n",
    "MAX_NUM_WORDS = 50000\n",
    "MAX_SEQ_LENGTH = 30\n",
    "EMBEDDING_DIM = 200\n",
    "\n",
    "tokenizer = Tokenizer(num_words = MAX_NUM_WORDS, filters = string.punctuation, lower=True)\n",
    "tokenizer.fit_on_texts(df_train['text'].values)\n",
    "\n",
    "word_index = tokenizer.word_index\n",
    "print(\"# of unique tokens:\", len(word_index))"
   ]
  },
  {
   "cell_type": "code",
   "execution_count": 30,
   "id": "0138efb2",
   "metadata": {},
   "outputs": [
    {
     "name": "stdout",
     "output_type": "stream",
     "text": [
      "shape of input: (24000, 30)\n"
     ]
    }
   ],
   "source": [
    "# generate the tokens\n",
    "sequence = tokenizer.texts_to_sequences(df_train['text'].values)\n",
    "paddings = pad_sequences(sequence, maxlen=MAX_SEQ_LENGTH, padding='post', truncating = 'post')\n",
    "print(\"shape of input:\", paddings.shape)"
   ]
  },
  {
   "cell_type": "markdown",
   "id": "f2c62c9c",
   "metadata": {},
   "source": [
    "### 4.2 Prepare training and testingset"
   ]
  },
  {
   "cell_type": "markdown",
   "id": "8c5fb779",
   "metadata": {},
   "source": [
    "The testing data is splited out to do the validation in order to modify the model. The emotion labels is transformed into one hot encoding."
   ]
  },
  {
   "cell_type": "code",
   "execution_count": 36,
   "id": "21a83e32",
   "metadata": {},
   "outputs": [],
   "source": [
    "# get data\n",
    "X = paddings\n",
    "y = df_train.emotion"
   ]
  },
  {
   "cell_type": "code",
   "execution_count": 37,
   "id": "ee30331d",
   "metadata": {},
   "outputs": [],
   "source": [
    "# split training set and testint set\n",
    "X_train, X_test, y_train, y_test = train_test_split(X, y, test_size = 0.2, shuffle = True, \n",
    "                                                    random_state = 27, stratify = y)"
   ]
  },
  {
   "cell_type": "code",
   "execution_count": 38,
   "id": "4a454872",
   "metadata": {
    "scrolled": true
   },
   "outputs": [
    {
     "name": "stdout",
     "output_type": "stream",
     "text": [
      "(19200, 30)\n",
      "(4800, 30)\n",
      "(19200,)\n",
      "(4800,)\n"
     ]
    }
   ],
   "source": [
    "print(X_train.shape)\n",
    "print(X_test.shape)\n",
    "print(y_train.shape)\n",
    "print(y_test.shape)"
   ]
  },
  {
   "cell_type": "code",
   "execution_count": 39,
   "id": "ca2fbb87",
   "metadata": {
    "scrolled": true
   },
   "outputs": [],
   "source": [
    "# deal with label into one hot\n",
    "label_encoder = LabelEncoder()\n",
    "label_encoder.fit(y_train)\n",
    "\n",
    "def label_encode(le, labels):\n",
    "    enc = le.transform(labels)\n",
    "    return keras.utils.to_categorical(enc)\n",
    "\n",
    "def label_decode(le, one_hot_label):\n",
    "    dec = np.argmax(one_hot_label, axis=1)\n",
    "    return le.inverse_transform(dec)\n",
    "\n",
    "y_train = label_encode(label_encoder, y_train)\n",
    "y_test = label_encode(label_encoder, y_test)"
   ]
  },
  {
   "cell_type": "code",
   "execution_count": 40,
   "id": "9b884fd0",
   "metadata": {},
   "outputs": [
    {
     "name": "stdout",
     "output_type": "stream",
     "text": [
      "(19200, 30)\n",
      "(4800, 30)\n",
      "(19200, 8)\n",
      "(4800, 8)\n"
     ]
    }
   ],
   "source": [
    "print(X_train.shape)\n",
    "print(X_test.shape)\n",
    "print(y_train.shape)\n",
    "print(y_test.shape)"
   ]
  },
  {
   "cell_type": "markdown",
   "id": "62752ebc",
   "metadata": {},
   "source": [
    "### 4.3 Word2Vec"
   ]
  },
  {
   "cell_type": "markdown",
   "id": "eec3baf5",
   "metadata": {},
   "source": [
    "I load the tweeter pre-trained word vector to form the embedding matrix. Embedding is used to construct the embedding layer."
   ]
  },
  {
   "cell_type": "code",
   "execution_count": 41,
   "id": "9933565e",
   "metadata": {},
   "outputs": [
    {
     "name": "stdout",
     "output_type": "stream",
     "text": [
      "Finish loading!\n"
     ]
    }
   ],
   "source": [
    "# download the model\n",
    "from gensim.models import KeyedVectors\n",
    "\n",
    "model_path = \"glove.twitter.27B.200d.txt.gz\"\n",
    "w2v = KeyedVectors.load_word2vec_format(model_path, binary=False)\n",
    "print('Finish loading!')"
   ]
  },
  {
   "cell_type": "code",
   "execution_count": 42,
   "id": "99a06000",
   "metadata": {},
   "outputs": [
    {
     "name": "stdout",
     "output_type": "stream",
     "text": [
      "embedding shape: (44370, 200)\n"
     ]
    }
   ],
   "source": [
    "vocab_size = len(tokenizer.word_index) + 1\n",
    "\n",
    "embedding_matrix = np.zeros((vocab_size, EMBEDDING_DIM))\n",
    "for word, i in tokenizer.word_index.items():\n",
    "    if word in w2v.key_to_index:\n",
    "        embedding_matrix[i] = w2v[word]\n",
    "\n",
    "print(\"embedding shape:\", embedding_matrix.shape)"
   ]
  },
  {
   "cell_type": "markdown",
   "id": "925a2a03",
   "metadata": {},
   "source": [
    "### 4.4 Build Model"
   ]
  },
  {
   "cell_type": "markdown",
   "id": "6f26868e",
   "metadata": {},
   "source": [
    "The BiLSTM is consisted of embedding layer, BiLSTM layer (two LSTM layers), and the output layer (dense). "
   ]
  },
  {
   "cell_type": "code",
   "execution_count": 43,
   "id": "350d4731",
   "metadata": {},
   "outputs": [],
   "source": [
    "from keras.models import Model, Sequential\n",
    "from keras.layers import Dense, Input, Embedding\n",
    "from keras.layers import LSTM, Bidirectional"
   ]
  },
  {
   "cell_type": "code",
   "execution_count": 44,
   "id": "fb2babb8",
   "metadata": {},
   "outputs": [],
   "source": [
    "embedding_layer = Embedding(vocab_size, \n",
    "                            EMBEDDING_DIM, \n",
    "                            weights = [embedding_matrix], \n",
    "                            mask_zero = True,\n",
    "                            input_length = MAX_SEQ_LENGTH, \n",
    "                            trainable = False)"
   ]
  },
  {
   "cell_type": "code",
   "execution_count": 45,
   "id": "69732b20",
   "metadata": {},
   "outputs": [
    {
     "name": "stdout",
     "output_type": "stream",
     "text": [
      "input_shape:  30\n",
      "output_shape:  8\n"
     ]
    }
   ],
   "source": [
    "# I/O check\n",
    "input_shape = MAX_SEQ_LENGTH\n",
    "print('input_shape: ', input_shape)\n",
    "\n",
    "output_shape = len(label_encoder.classes_)\n",
    "print('output_shape: ', output_shape)"
   ]
  },
  {
   "cell_type": "markdown",
   "id": "f1414224",
   "metadata": {},
   "source": [
    "The following functions are used to exam the classification result, including recall, precision, and f1 score."
   ]
  },
  {
   "cell_type": "code",
   "execution_count": 72,
   "id": "365f7d9a",
   "metadata": {},
   "outputs": [],
   "source": [
    "from keras import backend as K\n",
    "\n",
    "def recall_m(y_true, y_pred): # TPR\n",
    "    true_positives = K.sum(K.round(K.clip(y_true * y_pred, 0, 1))) # TP\n",
    "    possible_positives = K.sum(K.round(K.clip(y_true, 0, 1))) # P\n",
    "    recall = true_positives / (possible_positives + K.epsilon())\n",
    "    return recall\n",
    "\n",
    "def precision_m(y_true, y_pred):\n",
    "    true_positives = K.sum(K.round(K.clip(y_true * y_pred, 0, 1))) # TP\n",
    "    predicted_positives = K.sum(K.round(K.clip(y_pred, 0, 1))) # TP + FP\n",
    "    precision = true_positives / (predicted_positives + K.epsilon())\n",
    "    return precision\n",
    "\n",
    "def f1_m(y_true, y_pred):\n",
    "    precision = precision_m(y_true, y_pred)\n",
    "    recall = recall_m(y_true, y_pred)\n",
    "    return 2*((precision*recall)/(precision+recall+K.epsilon()))\n",
    "\n",
    "def TP(y_true, y_pred):\n",
    "    tp = K.sum(K.round(K.clip(y_true * y_pred, 0, 1))) # TP\n",
    "    y_pos = K.round(K.clip(y_true, 0, 1))\n",
    "    n_pos = K.sum(y_pos)\n",
    "    y_neg = 1 - y_pos\n",
    "    n_neg = K.sum(y_neg)\n",
    "    n = n_pos + n_neg\n",
    "    return tp/n\n",
    "\n",
    "def TN(y_true, y_pred):\n",
    "    y_pos = K.round(K.clip(y_true, 0, 1))\n",
    "    n_pos = K.sum(y_pos)\n",
    "    y_neg = 1 - y_pos\n",
    "    n_neg = K.sum(y_neg)\n",
    "    n = n_pos + n_neg\n",
    "    y_pred_pos = K.round(K.clip(y_pred, 0, 1))\n",
    "    y_pred_neg = 1 - y_pred_pos\n",
    "    tn = K.sum(K.round(K.clip(y_neg * y_pred_neg, 0, 1))) # TN\n",
    "    return tn/n\n",
    "\n",
    "def FP(y_true, y_pred):\n",
    "    y_pos = K.round(K.clip(y_true, 0, 1))\n",
    "    n_pos = K.sum(y_pos)\n",
    "    y_neg = 1 - y_pos\n",
    "    n_neg = K.sum(y_neg)\n",
    "    n = n_pos + n_neg\n",
    "    tn = K.sum(K.round(K.clip(y_neg * y_pred, 0, 1))) # FP\n",
    "    return tn/n\n",
    "\n",
    "def FN(y_true, y_pred):\n",
    "    y_pos = K.round(K.clip(y_true, 0, 1))\n",
    "    n_pos = K.sum(y_pos)\n",
    "    y_neg = 1 - y_pos\n",
    "    n_neg = K.sum(y_neg)\n",
    "    n = n_pos + n_neg\n",
    "    y_pred_pos = K.round(K.clip(y_pred, 0, 1))\n",
    "    y_pred_neg = 1 - y_pred_pos\n",
    "    tn = K.sum(K.round(K.clip(y_true * y_pred_neg, 0, 1))) # FN\n",
    "    return tn/n"
   ]
  },
  {
   "cell_type": "code",
   "execution_count": 73,
   "id": "603e2d5d",
   "metadata": {},
   "outputs": [
    {
     "name": "stdout",
     "output_type": "stream",
     "text": [
      "Model: \"model_2\"\n",
      "_________________________________________________________________\n",
      " Layer (type)                Output Shape              Param #   \n",
      "=================================================================\n",
      " input_3 (InputLayer)        [(None, 30)]              0         \n",
      "                                                                 \n",
      " embedding (Embedding)       (None, 30, 200)           8874000   \n",
      "                                                                 \n",
      " bidirectional_2 (Bidirectio  (None, 30, 256)          336896    \n",
      " nal)                                                            \n",
      "                                                                 \n",
      " bidirectional_3 (Bidirectio  (None, 256)              394240    \n",
      " nal)                                                            \n",
      "                                                                 \n",
      " dense_4 (Dense)             (None, 8)                 2056      \n",
      "                                                                 \n",
      "=================================================================\n",
      "Total params: 9,607,192\n",
      "Trainable params: 733,192\n",
      "Non-trainable params: 8,874,000\n",
      "_________________________________________________________________\n"
     ]
    }
   ],
   "source": [
    "# build BiLSTM model\n",
    "inputs = Input(shape = (input_shape,), dtype = 'float32')\n",
    "x = embedding_layer(inputs)\n",
    "x = Bidirectional(LSTM(128, return_sequences = True))(x)\n",
    "x = Bidirectional(LSTM(128))(x)\n",
    "outputs = Dense(output_shape, activation = \"sigmoid\")(x)\n",
    "\n",
    "model = Model(inputs, outputs)\n",
    "opt = keras.optimizers.Adam()\n",
    "model.compile(loss = 'categorical_crossentropy', optimizer = opt,\n",
    "              metrics=['accuracy',f1_m,precision_m, recall_m, TP, TN, FP, FN])\n",
    "model.summary()"
   ]
  },
  {
   "cell_type": "markdown",
   "id": "62a07300",
   "metadata": {},
   "source": [
    "### 4.5 Training"
   ]
  },
  {
   "cell_type": "markdown",
   "id": "c2d6ff42",
   "metadata": {},
   "source": [
    "To avoid overfitting, I store checkpoints to record the best model. Fro the training log, we can observe that the check will only store the model having better performance."
   ]
  },
  {
   "cell_type": "code",
   "execution_count": 48,
   "id": "71ad25b7",
   "metadata": {},
   "outputs": [],
   "source": [
    "# save the training lag\n",
    "from keras.callbacks import CSVLogger\n",
    "from keras.callbacks import Callback\n",
    "from sklearn.metrics import f1_score, classification_report\n",
    "csv_logger = CSVLogger('logs/training_log.csv')"
   ]
  },
  {
   "cell_type": "code",
   "execution_count": 49,
   "id": "9d567dc3",
   "metadata": {},
   "outputs": [],
   "source": [
    "# save the checkpoint\n",
    "from keras.callbacks import ModelCheckpoint\n",
    "filepath = \"./model/BiLSTM5_weights_{epoch:02d}.h5\"\n",
    "checkpoint = ModelCheckpoint(filepath, monitor = 'val_accuracy', verbose=1, save_best_only=True, mode='max')\n",
    "callbacks_list = [checkpoint]"
   ]
  },
  {
   "cell_type": "code",
   "execution_count": 51,
   "id": "756460e5",
   "metadata": {},
   "outputs": [],
   "source": [
    "# training setting\n",
    "epochs = 7\n",
    "batch_size = 32"
   ]
  },
  {
   "cell_type": "code",
   "execution_count": 53,
   "id": "41145e45",
   "metadata": {
    "scrolled": true
   },
   "outputs": [
    {
     "name": "stdout",
     "output_type": "stream",
     "text": [
      "Epoch 1/7\n"
     ]
    },
    {
     "name": "stderr",
     "output_type": "stream",
     "text": [
      "2022-11-22 23:32:45.337248: I tensorflow/core/grappler/optimizers/custom_graph_optimizer_registry.cc:114] Plugin optimizer for device_type GPU is enabled.\n",
      "2022-11-22 23:32:46.253038: W tensorflow/core/common_runtime/forward_type_inference.cc:332] Type inference failed. This indicates an invalid graph that escaped type checking. Error message: INVALID_ARGUMENT: expected compatible input types, but input 1:\n",
      "type_id: TFT_OPTIONAL\n",
      "args {\n",
      "  type_id: TFT_PRODUCT\n",
      "  args {\n",
      "    type_id: TFT_TENSOR\n",
      "    args {\n",
      "      type_id: TFT_INT32\n",
      "    }\n",
      "  }\n",
      "}\n",
      " is neither a subtype nor a supertype of the combined inputs preceding it:\n",
      "type_id: TFT_OPTIONAL\n",
      "args {\n",
      "  type_id: TFT_PRODUCT\n",
      "  args {\n",
      "    type_id: TFT_TENSOR\n",
      "    args {\n",
      "      type_id: TFT_FLOAT\n",
      "    }\n",
      "  }\n",
      "}\n",
      "\n",
      "\twhile inferring type of node 'cond_20/output/_23'\n",
      "2022-11-22 23:32:46.256111: I tensorflow/core/grappler/optimizers/custom_graph_optimizer_registry.cc:114] Plugin optimizer for device_type GPU is enabled.\n",
      "2022-11-22 23:32:46.518550: I tensorflow/core/grappler/optimizers/custom_graph_optimizer_registry.cc:114] Plugin optimizer for device_type GPU is enabled.\n",
      "2022-11-22 23:32:47.283405: I tensorflow/core/grappler/optimizers/custom_graph_optimizer_registry.cc:114] Plugin optimizer for device_type GPU is enabled.\n",
      "2022-11-22 23:32:47.384628: I tensorflow/core/grappler/optimizers/custom_graph_optimizer_registry.cc:114] Plugin optimizer for device_type GPU is enabled.\n",
      "2022-11-22 23:32:48.177262: I tensorflow/core/grappler/optimizers/custom_graph_optimizer_registry.cc:114] Plugin optimizer for device_type GPU is enabled.\n",
      "2022-11-22 23:32:48.319840: I tensorflow/core/grappler/optimizers/custom_graph_optimizer_registry.cc:114] Plugin optimizer for device_type GPU is enabled.\n",
      "2022-11-22 23:32:49.281620: I tensorflow/core/grappler/optimizers/custom_graph_optimizer_registry.cc:114] Plugin optimizer for device_type GPU is enabled.\n",
      "2022-11-22 23:32:49.360930: I tensorflow/core/grappler/optimizers/custom_graph_optimizer_registry.cc:114] Plugin optimizer for device_type GPU is enabled.\n"
     ]
    },
    {
     "name": "stdout",
     "output_type": "stream",
     "text": [
      "600/600 [==============================] - ETA: 0s - loss: 1.8277 - accuracy: 0.2877 - f1_m: 0.3065 - precision_m: 0.1929 - recall_m: 0.7491 - TP: 0.0936 - TN: 0.4812 - FP: 0.3938 - FN: 0.0314"
     ]
    },
    {
     "name": "stderr",
     "output_type": "stream",
     "text": [
      "2022-11-22 23:34:31.714820: I tensorflow/core/grappler/optimizers/custom_graph_optimizer_registry.cc:114] Plugin optimizer for device_type GPU is enabled.\n",
      "2022-11-22 23:34:32.082011: I tensorflow/core/grappler/optimizers/custom_graph_optimizer_registry.cc:114] Plugin optimizer for device_type GPU is enabled.\n",
      "2022-11-22 23:34:32.177712: I tensorflow/core/grappler/optimizers/custom_graph_optimizer_registry.cc:114] Plugin optimizer for device_type GPU is enabled.\n",
      "2022-11-22 23:34:32.795114: I tensorflow/core/grappler/optimizers/custom_graph_optimizer_registry.cc:114] Plugin optimizer for device_type GPU is enabled.\n",
      "2022-11-22 23:34:32.864171: I tensorflow/core/grappler/optimizers/custom_graph_optimizer_registry.cc:114] Plugin optimizer for device_type GPU is enabled.\n"
     ]
    },
    {
     "name": "stdout",
     "output_type": "stream",
     "text": [
      "\n",
      "Epoch 1: val_accuracy improved from -inf to 0.35083, saving model to ./model/BiLSTM5_weights_01.h5\n",
      "600/600 [==============================] - 127s 197ms/step - loss: 1.8277 - accuracy: 0.2877 - f1_m: 0.3065 - precision_m: 0.1929 - recall_m: 0.7491 - TP: 0.0936 - TN: 0.4812 - FP: 0.3938 - FN: 0.0314 - val_loss: 1.7307 - val_accuracy: 0.3508 - val_f1_m: 0.3152 - val_precision_m: 0.1977 - val_recall_m: 0.7785 - val_TP: 0.0973 - val_TN: 0.4793 - val_FP: 0.3957 - val_FN: 0.0277\n",
      "Epoch 2/7\n",
      "600/600 [==============================] - ETA: 0s - loss: 1.6458 - accuracy: 0.3869 - f1_m: 0.3376 - precision_m: 0.2152 - recall_m: 0.7845 - TP: 0.0981 - TN: 0.5167 - FP: 0.3583 - FN: 0.0269\n",
      "Epoch 2: val_accuracy improved from 0.35083 to 0.38583, saving model to ./model/BiLSTM5_weights_02.h5\n",
      "600/600 [==============================] - 101s 168ms/step - loss: 1.6458 - accuracy: 0.3869 - f1_m: 0.3376 - precision_m: 0.2152 - recall_m: 0.7845 - TP: 0.0981 - TN: 0.5167 - FP: 0.3583 - FN: 0.0269 - val_loss: 1.6399 - val_accuracy: 0.3858 - val_f1_m: 0.3415 - val_precision_m: 0.2187 - val_recall_m: 0.7796 - val_TP: 0.0974 - val_TN: 0.5261 - val_FP: 0.3489 - val_FN: 0.0276\n",
      "Epoch 3/7\n",
      "600/600 [==============================] - ETA: 0s - loss: 1.5411 - accuracy: 0.4303 - f1_m: 0.3559 - precision_m: 0.2284 - recall_m: 0.8063 - TP: 0.1008 - TN: 0.5337 - FP: 0.3413 - FN: 0.0242\n",
      "Epoch 3: val_accuracy improved from 0.38583 to 0.40208, saving model to ./model/BiLSTM5_weights_03.h5\n",
      "600/600 [==============================] - 102s 171ms/step - loss: 1.5411 - accuracy: 0.4303 - f1_m: 0.3559 - precision_m: 0.2284 - recall_m: 0.8063 - TP: 0.1008 - TN: 0.5337 - FP: 0.3413 - FN: 0.0242 - val_loss: 1.6064 - val_accuracy: 0.4021 - val_f1_m: 0.3409 - val_precision_m: 0.2179 - val_recall_m: 0.7846 - val_TP: 0.0981 - val_TN: 0.5218 - val_FP: 0.3532 - val_FN: 0.0269\n",
      "Epoch 4/7\n",
      "600/600 [==============================] - ETA: 0s - loss: 1.4536 - accuracy: 0.4681 - f1_m: 0.3701 - precision_m: 0.2387 - recall_m: 0.8251 - TP: 0.1031 - TN: 0.5451 - FP: 0.3299 - FN: 0.0219\n",
      "Epoch 4: val_accuracy improved from 0.40208 to 0.41625, saving model to ./model/BiLSTM5_weights_04.h5\n",
      "600/600 [==============================] - 102s 169ms/step - loss: 1.4536 - accuracy: 0.4681 - f1_m: 0.3701 - precision_m: 0.2387 - recall_m: 0.8251 - TP: 0.1031 - TN: 0.5451 - FP: 0.3299 - FN: 0.0219 - val_loss: 1.5833 - val_accuracy: 0.4163 - val_f1_m: 0.3500 - val_precision_m: 0.2262 - val_recall_m: 0.7742 - val_TP: 0.0968 - val_TN: 0.5434 - val_FP: 0.3316 - val_FN: 0.0282\n",
      "Epoch 5/7\n",
      "600/600 [==============================] - ETA: 0s - loss: 1.3561 - accuracy: 0.5068 - f1_m: 0.3837 - precision_m: 0.2483 - recall_m: 0.8464 - TP: 0.1058 - TN: 0.5535 - FP: 0.3215 - FN: 0.0192\n",
      "Epoch 5: val_accuracy improved from 0.41625 to 0.42333, saving model to ./model/BiLSTM5_weights_05.h5\n",
      "600/600 [==============================] - 101s 169ms/step - loss: 1.3561 - accuracy: 0.5068 - f1_m: 0.3837 - precision_m: 0.2483 - recall_m: 0.8464 - TP: 0.1058 - TN: 0.5535 - FP: 0.3215 - FN: 0.0192 - val_loss: 1.5967 - val_accuracy: 0.4233 - val_f1_m: 0.3458 - val_precision_m: 0.2233 - val_recall_m: 0.7675 - val_TP: 0.0959 - val_TN: 0.5402 - val_FP: 0.3348 - val_FN: 0.0291\n",
      "Epoch 6/7\n",
      "600/600 [==============================] - ETA: 0s - loss: 1.2475 - accuracy: 0.5536 - f1_m: 0.3967 - precision_m: 0.2571 - recall_m: 0.8696 - TP: 0.1087 - TN: 0.5598 - FP: 0.3152 - FN: 0.0163\n",
      "Epoch 6: val_accuracy improved from 0.42333 to 0.42708, saving model to ./model/BiLSTM5_weights_06.h5\n",
      "600/600 [==============================] - 101s 168ms/step - loss: 1.2475 - accuracy: 0.5536 - f1_m: 0.3967 - precision_m: 0.2571 - recall_m: 0.8696 - TP: 0.1087 - TN: 0.5598 - FP: 0.3152 - FN: 0.0163 - val_loss: 1.6125 - val_accuracy: 0.4271 - val_f1_m: 0.3577 - val_precision_m: 0.2322 - val_recall_m: 0.7796 - val_TP: 0.0974 - val_TN: 0.5518 - val_FP: 0.3232 - val_FN: 0.0276\n",
      "Epoch 7/7\n",
      "600/600 [==============================] - ETA: 0s - loss: 1.1181 - accuracy: 0.6036 - f1_m: 0.4145 - precision_m: 0.2697 - recall_m: 0.8963 - TP: 0.1120 - TN: 0.5705 - FP: 0.3045 - FN: 0.0130\n",
      "Epoch 7: val_accuracy did not improve from 0.42708\n",
      "600/600 [==============================] - 101s 168ms/step - loss: 1.1181 - accuracy: 0.6036 - f1_m: 0.4145 - precision_m: 0.2697 - recall_m: 0.8963 - TP: 0.1120 - TN: 0.5705 - FP: 0.3045 - FN: 0.0130 - val_loss: 1.7424 - val_accuracy: 0.4115 - val_f1_m: 0.3454 - val_precision_m: 0.2234 - val_recall_m: 0.7621 - val_TP: 0.0953 - val_TN: 0.5430 - val_FP: 0.3320 - val_FN: 0.0297\n",
      "training finish\n"
     ]
    }
   ],
   "source": [
    "# training!\n",
    "history = model.fit(X_train, y_train, \n",
    "                    epochs = epochs, \n",
    "                    batch_size = batch_size, \n",
    "                    callbacks = [callbacks_list, csv_logger],\n",
    "                    validation_data = (X_test, y_test))\n",
    "print('training finish')"
   ]
  },
  {
   "cell_type": "code",
   "execution_count": 54,
   "id": "8a0039c9",
   "metadata": {},
   "outputs": [],
   "source": [
    "training_log = pd.read_csv(\"logs/training_log.csv\")"
   ]
  },
  {
   "cell_type": "code",
   "execution_count": 55,
   "id": "191862a1",
   "metadata": {
    "scrolled": true
   },
   "outputs": [
    {
     "data": {
      "image/png": "[encoded data removed]",
      "text/plain": [
       "<Figure size 2000x500 with 2 Axes>"
      ]
     },
     "metadata": {},
     "output_type": "display_data"
    }
   ],
   "source": [
    "import matplotlib.pyplot as plt\n",
    "\n",
    "plt.figure(figsize = (20, 5))\n",
    "\n",
    "# plot the accuracy curve\n",
    "plt.subplot(121)\n",
    "x = np.arange(len(training_log.accuracy)) + 1\n",
    "train, = plt.plot(x, training_log.accuracy, 'b')\n",
    "val, = plt.plot(x, training_log.val_accuracy, 'r')\n",
    "plt.title('accuracy curve')\n",
    "plt.xlabel('epoch')\n",
    "plt.ylabel('accuracy')\n",
    "plt.legend(handles = [train, val], labels = ['train', 'val'], loc = 'best')\n",
    "\n",
    "# plot the loss curve\n",
    "plt.subplot(122)\n",
    "x = np.arange(len(training_log.loss)) + 1\n",
    "train, = plt.plot(x, training_log.loss, 'b')\n",
    "val, = plt.plot(x, training_log.val_loss, 'r')\n",
    "plt.title('loss curve')\n",
    "plt.xlabel('epoch')\n",
    "plt.ylabel('loss')\n",
    "plt.legend(handles = [train, val], labels = ['train', 'val'], loc = 'best')\n",
    "plt.show()"
   ]
  },
  {
   "cell_type": "markdown",
   "id": "d6013256",
   "metadata": {},
   "source": [
    "From the loss curve, we can observe that the model start overfitting at the 6th epoch."
   ]
  },
  {
   "cell_type": "markdown",
   "id": "9375de00",
   "metadata": {},
   "source": [
    "### 4.6 Validation"
   ]
  },
  {
   "cell_type": "markdown",
   "id": "481e975f",
   "metadata": {},
   "source": [
    "I use the validation data to visualize the classification result. "
   ]
  },
  {
   "cell_type": "code",
   "execution_count": 56,
   "id": "5f1a6066",
   "metadata": {},
   "outputs": [
    {
     "name": "stderr",
     "output_type": "stream",
     "text": [
      "2022-11-22 23:44:57.103912: I tensorflow/core/grappler/optimizers/custom_graph_optimizer_registry.cc:114] Plugin optimizer for device_type GPU is enabled.\n",
      "2022-11-22 23:44:57.423530: I tensorflow/core/grappler/optimizers/custom_graph_optimizer_registry.cc:114] Plugin optimizer for device_type GPU is enabled.\n",
      "2022-11-22 23:44:57.502121: I tensorflow/core/grappler/optimizers/custom_graph_optimizer_registry.cc:114] Plugin optimizer for device_type GPU is enabled.\n",
      "2022-11-22 23:44:58.000588: I tensorflow/core/grappler/optimizers/custom_graph_optimizer_registry.cc:114] Plugin optimizer for device_type GPU is enabled.\n",
      "2022-11-22 23:44:58.078895: I tensorflow/core/grappler/optimizers/custom_graph_optimizer_registry.cc:114] Plugin optimizer for device_type GPU is enabled.\n"
     ]
    },
    {
     "name": "stdout",
     "output_type": "stream",
     "text": [
      "150/150 [==============================] - 14s 79ms/step\n"
     ]
    }
   ],
   "source": [
    "# validation\n",
    "pred_result = model.predict(X_test, batch_size = 32)\n",
    "pred_result = label_decode(label_encoder, pred_result)"
   ]
  },
  {
   "cell_type": "code",
   "execution_count": 57,
   "id": "bae726a8",
   "metadata": {},
   "outputs": [
    {
     "name": "stdout",
     "output_type": "stream",
     "text": [
      "testing accuracy: 0.41\n"
     ]
    }
   ],
   "source": [
    "# calculate the accuracy\n",
    "from sklearn.metrics import accuracy_score\n",
    "print('testing accuracy: {}'.format(round(accuracy_score(label_decode(label_encoder, y_test), pred_result), 2)))"
   ]
  },
  {
   "cell_type": "code",
   "execution_count": 58,
   "id": "e2a1ae2d",
   "metadata": {},
   "outputs": [],
   "source": [
    "y_test = label_decode(label_encoder, y_test)"
   ]
  },
  {
   "cell_type": "code",
   "execution_count": 59,
   "id": "c1ef3a9f",
   "metadata": {
    "scrolled": true
   },
   "outputs": [
    {
     "name": "stdout",
     "output_type": "stream",
     "text": [
      "classification report:\n",
      "              precision    recall  f1-score   support\n",
      "\n",
      "       anger       0.50      0.45      0.47       600\n",
      "anticipation       0.57      0.44      0.50       600\n",
      "     disgust       0.40      0.33      0.36       600\n",
      "        fear       0.38      0.59      0.46       600\n",
      "         joy       0.38      0.35      0.36       600\n",
      "     sadness       0.33      0.36      0.35       600\n",
      "    surprise       0.38      0.39      0.39       600\n",
      "       trust       0.41      0.39      0.40       600\n",
      "\n",
      "    accuracy                           0.41      4800\n",
      "   macro avg       0.42      0.41      0.41      4800\n",
      "weighted avg       0.42      0.41      0.41      4800\n",
      "\n",
      "confusion matrix:\n",
      "[[270  16  66  79  21  90  31  27]\n",
      " [ 21 266  11  63  79  34  48  78]\n",
      " [ 67  13 195  77  23 111  81  33]\n",
      " [ 25  36  29 352  36  56  43  23]\n",
      " [ 26  51  22  87 210  48  55 101]\n",
      " [ 69  20  85  79  28 217  66  36]\n",
      " [ 36  24  54 113  35  67 233  38]\n",
      " [ 25  39  30  71 119  32  52 232]]\n"
     ]
    }
   ],
   "source": [
    "from sklearn.metrics import accuracy_score\n",
    "from sklearn.metrics import classification_report\n",
    "from sklearn.metrics import confusion_matrix\n",
    "\n",
    "# precision, recall, f1-score\n",
    "print('classification report:')\n",
    "print(classification_report(y_true=y_test, y_pred=pred_result))\n",
    "\n",
    "# confusion matrix\n",
    "cm = confusion_matrix(y_true=y_test, y_pred=pred_result)\n",
    "print('confusion matrix:')\n",
    "print(cm)"
   ]
  },
  {
   "cell_type": "markdown",
   "id": "3cc22556",
   "metadata": {},
   "source": [
    "The accuracy of the BiLSTM model is about 0.41."
   ]
  },
  {
   "cell_type": "markdown",
   "id": "953315a3",
   "metadata": {},
   "source": [
    "### 4.7 Save the Model"
   ]
  },
  {
   "cell_type": "code",
   "execution_count": 60,
   "id": "ae4fd6ef",
   "metadata": {
    "scrolled": false
   },
   "outputs": [],
   "source": [
    "# save model\n",
    "model_json = model.to_json()\n",
    "with open(\"model/BiLSTM5.json\", \"w\") as json_file:\n",
    "    json_file.write(model_json)"
   ]
  },
  {
   "cell_type": "code",
   "execution_count": 61,
   "id": "be7921a2",
   "metadata": {},
   "outputs": [
    {
     "name": "stdout",
     "output_type": "stream",
     "text": [
      "Saved model to disk\n"
     ]
    }
   ],
   "source": [
    "model.save_weights(\"model/BiLSTM5.h5\")\n",
    "print(\"Saved model to disk\")"
   ]
  },
  {
   "cell_type": "markdown",
   "id": "4af69157",
   "metadata": {},
   "source": [
    "### 4.8 Predict"
   ]
  },
  {
   "cell_type": "markdown",
   "id": "4b1ad0db",
   "metadata": {},
   "source": [
    "To predict the classification, I load the best model recieve from previous part and do the same preprocessing process to the testing data."
   ]
  },
  {
   "cell_type": "code",
   "execution_count": 62,
   "id": "53137bea",
   "metadata": {},
   "outputs": [
    {
     "name": "stdout",
     "output_type": "stream",
     "text": [
      "Loaded model from disk\n"
     ]
    }
   ],
   "source": [
    "from keras.models import model_from_json\n",
    "# load json and create model\n",
    "json_file = open('model/BiLSTM5.json', 'r')\n",
    "loaded_model_json = json_file.read()\n",
    "json_file.close()\n",
    "BiLSTM_model = model_from_json(loaded_model_json)\n",
    "\n",
    "# load weights into new model\n",
    "BiLSTM_model.load_weights(\"model/BiLSTM5_weights_03.h5\")\n",
    "print(\"Loaded model from disk\")"
   ]
  },
  {
   "cell_type": "code",
   "execution_count": 63,
   "id": "e0c63743",
   "metadata": {},
   "outputs": [
    {
     "data": {
      "text/plain": [
       "(411972, 30)"
      ]
     },
     "execution_count": 63,
     "metadata": {},
     "output_type": "execute_result"
    }
   ],
   "source": [
    "sequence = tokenizer.texts_to_sequences(df_test['text'].values)\n",
    "paddings = pad_sequences(sequence, maxlen=MAX_SEQ_LENGTH, padding='post', truncating = 'post')\n",
    "paddings.shape"
   ]
  },
  {
   "cell_type": "code",
   "execution_count": 64,
   "id": "08136f1e",
   "metadata": {},
   "outputs": [],
   "source": [
    "pred_X = paddings"
   ]
  },
  {
   "cell_type": "code",
   "execution_count": 65,
   "id": "fcab6311",
   "metadata": {},
   "outputs": [
    {
     "name": "stderr",
     "output_type": "stream",
     "text": [
      "2022-11-22 23:45:18.140657: I tensorflow/core/grappler/optimizers/custom_graph_optimizer_registry.cc:114] Plugin optimizer for device_type GPU is enabled.\n",
      "2022-11-22 23:45:18.547961: I tensorflow/core/grappler/optimizers/custom_graph_optimizer_registry.cc:114] Plugin optimizer for device_type GPU is enabled.\n",
      "2022-11-22 23:45:18.658654: I tensorflow/core/grappler/optimizers/custom_graph_optimizer_registry.cc:114] Plugin optimizer for device_type GPU is enabled.\n",
      "2022-11-22 23:45:19.201597: I tensorflow/core/grappler/optimizers/custom_graph_optimizer_registry.cc:114] Plugin optimizer for device_type GPU is enabled.\n",
      "2022-11-22 23:45:19.322940: I tensorflow/core/grappler/optimizers/custom_graph_optimizer_registry.cc:114] Plugin optimizer for device_type GPU is enabled.\n"
     ]
    },
    {
     "name": "stdout",
     "output_type": "stream",
     "text": [
      "12875/12875 [==============================] - 942s 73ms/step\n",
      "[[0.20521255 0.943778   0.14059854 0.28001043 0.7841989  0.25937206\n",
      "  0.247463   0.69424516]\n",
      " [0.34450334 0.9324782  0.23889624 0.2668645  0.57776874 0.47591758\n",
      "  0.27664697 0.55376464]\n",
      " [0.53725827 0.42479274 0.6720194  0.3841349  0.3639185  0.60627294\n",
      "  0.58767307 0.39850593]\n",
      " [0.30248603 0.77568835 0.20409945 0.41678092 0.66026264 0.23999575\n",
      "  0.64131856 0.5879166 ]\n",
      " [0.37016422 0.5850927  0.50313133 0.35397643 0.47981316 0.39994448\n",
      "  0.5798854  0.58977515]]\n"
     ]
    }
   ],
   "source": [
    "# predict\n",
    "pred_result = BiLSTM_model.predict(pred_X, batch_size = 32)\n",
    "print(pred_result[:5])"
   ]
  },
  {
   "cell_type": "code",
   "execution_count": 66,
   "id": "737ee696",
   "metadata": {},
   "outputs": [
    {
     "data": {
      "text/plain": [
       "array(['anticipation', 'anticipation', 'disgust', 'anticipation', 'trust',\n",
       "       'surprise', 'surprise', 'disgust', 'surprise', 'disgust', 'joy',\n",
       "       'surprise', 'disgust', 'sadness', 'anger', 'surprise', 'anger',\n",
       "       'sadness', 'anticipation', 'disgust'], dtype=object)"
      ]
     },
     "execution_count": 66,
     "metadata": {},
     "output_type": "execute_result"
    }
   ],
   "source": [
    "y_pred = label_decode(label_encoder, pred_result)\n",
    "y_pred[:20]"
   ]
  },
  {
   "cell_type": "code",
   "execution_count": 68,
   "id": "a0c3cba7",
   "metadata": {},
   "outputs": [],
   "source": [
    "tweet_id = df_test.tweet_id.tolist()"
   ]
  },
  {
   "cell_type": "code",
   "execution_count": 70,
   "id": "5fc6b3b6",
   "metadata": {},
   "outputs": [],
   "source": [
    "df = pd.DataFrame(list(zip(tweet_id, y_pred)), columns =['id', 'emotion']) "
   ]
  },
  {
   "cell_type": "code",
   "execution_count": 71,
   "id": "a59fb0c0",
   "metadata": {},
   "outputs": [],
   "source": [
    "# save the prediction result\n",
    "df.to_csv(\"./result/result_BiLSTM_RW_5_3.csv\",index=False)"
   ]
  }
 ],
 "metadata": {
  "kernelspec": {
   "display_name": "Python 3 (ipykernel)",
   "language": "python",
   "name": "python3"
  },
  "language_info": {
   "codemirror_mode": {
    "name": "ipython",
    "version": 3
   },
   "file_extension": ".py",
   "mimetype": "text/x-python",
   "name": "python",
   "nbconvert_exporter": "python",
   "pygments_lexer": "ipython3",
   "version": "3.9.6"
  }
 },
 "nbformat": 4,
 "nbformat_minor": 5
}
